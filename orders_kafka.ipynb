{
 "cells": [
  {
   "cell_type": "code",
   "execution_count": 3,
   "metadata": {},
   "outputs": [],
   "source": [
    "#----importing necessary packages\n",
    "from kafka import KafkaProducer\n",
    "from json import dumps\n",
    "import time\n",
    "import csv"
   ]
  },
  {
   "cell_type": "code",
   "execution_count": 4,
   "metadata": {},
   "outputs": [],
   "source": [
    "#-----filepath for csv------\n",
    "csv_filepath=\"/data/orders.csv\""
   ]
  },
  {
   "cell_type": "code",
   "execution_count": 5,
   "metadata": {},
   "outputs": [],
   "source": [
    "#-----creating producer object for ingest data to kafka topic----\n",
    "producer=KafkaProducer(bootstrap_servers=['localhost:9092'],api_version=(0,10,1))"
   ]
  },
  {
   "cell_type": "code",
   "execution_count": null,
   "metadata": {},
   "outputs": [],
   "source": [
    "#-----ingesting data as json into kafka topic------\n",
    "with open(csv_filepath,'r') as csv_file:\n",
    "    csv_reader=csv.reader(csv_file,delimiter=',')\n",
    "    next(csv_reader)\n",
    "    msg={}\n",
    "    for row in csv_reader:\n",
    "        msg['order_id']=row[0]\n",
    "        msg['created_at']=row[1]\n",
    "        msg['customer_id']=row[8]\n",
    "        msg['discount']=row[2]\n",
    "        msg['product_id']=row[3]\n",
    "        msg['quantity']=row[4]\n",
    "        msg['subtotal']=row[5]\n",
    "        msg['tax']=row[6]\n",
    "        msg['total']=row[7]\n",
    "        print(msg)\n",
    "        producer.send('orderstopic',dumps(msg).encode('utf-8'))\n",
    "        time.sleep(1)"
   ]
  }
 ],
 "metadata": {
  "kernelspec": {
   "display_name": "Python 3",
   "language": "python",
   "name": "python3"
  },
  "language_info": {
   "codemirror_mode": {
    "name": "ipython",
    "version": 3
   },
   "file_extension": ".py",
   "mimetype": "text/x-python",
   "name": "python",
   "nbconvert_exporter": "python",
   "pygments_lexer": "ipython3",
   "version": "3.7.6"
  }
 },
 "nbformat": 4,
 "nbformat_minor": 4
}
